{
 "cells": [
  {
   "cell_type": "code",
   "execution_count": 1,
   "metadata": {},
   "outputs": [],
   "source": [
    "from lxml import etree as ET\n",
    "import pandas as pd\n",
    "import os\n",
    "from xml_utils import xml_pretty_print\n",
    "import numpy as np"
   ]
  },
  {
   "cell_type": "markdown",
   "metadata": {},
   "source": [
    "# Import DLC database as a template"
   ]
  },
  {
   "cell_type": "code",
   "execution_count": 2,
   "metadata": {},
   "outputs": [
    {
     "data": {
      "text/html": [
       "<div>\n",
       "<style scoped>\n",
       "    .dataframe tbody tr th:only-of-type {\n",
       "        vertical-align: middle;\n",
       "    }\n",
       "\n",
       "    .dataframe tbody tr th {\n",
       "        vertical-align: top;\n",
       "    }\n",
       "\n",
       "    .dataframe thead tr th {\n",
       "        text-align: left;\n",
       "    }\n",
       "</style>\n",
       "<table border=\"1\" class=\"dataframe\">\n",
       "  <thead>\n",
       "    <tr>\n",
       "      <th>scorer</th>\n",
       "      <th colspan=\"21\" halign=\"left\">Charlie</th>\n",
       "    </tr>\n",
       "    <tr>\n",
       "      <th>bodyparts</th>\n",
       "      <th colspan=\"3\" halign=\"left\">neuron0</th>\n",
       "      <th colspan=\"3\" halign=\"left\">neuron1</th>\n",
       "      <th colspan=\"3\" halign=\"left\">neuron2</th>\n",
       "      <th>neuron3</th>\n",
       "      <th>...</th>\n",
       "      <th>neuron30</th>\n",
       "      <th colspan=\"3\" halign=\"left\">neuron31</th>\n",
       "      <th colspan=\"3\" halign=\"left\">neuron32</th>\n",
       "      <th colspan=\"3\" halign=\"left\">neuron33</th>\n",
       "    </tr>\n",
       "    <tr>\n",
       "      <th>coords</th>\n",
       "      <th>x</th>\n",
       "      <th>y</th>\n",
       "      <th>z</th>\n",
       "      <th>x</th>\n",
       "      <th>y</th>\n",
       "      <th>z</th>\n",
       "      <th>x</th>\n",
       "      <th>y</th>\n",
       "      <th>z</th>\n",
       "      <th>x</th>\n",
       "      <th>...</th>\n",
       "      <th>z</th>\n",
       "      <th>x</th>\n",
       "      <th>y</th>\n",
       "      <th>z</th>\n",
       "      <th>x</th>\n",
       "      <th>y</th>\n",
       "      <th>z</th>\n",
       "      <th>x</th>\n",
       "      <th>y</th>\n",
       "      <th>z</th>\n",
       "    </tr>\n",
       "  </thead>\n",
       "  <tbody>\n",
       "    <tr>\n",
       "      <th>labeled-data/test_100frames.ome/img0.tif</th>\n",
       "      <td>216.387579</td>\n",
       "      <td>340.884543</td>\n",
       "      <td>11.0</td>\n",
       "      <td>245.041642</td>\n",
       "      <td>324.087333</td>\n",
       "      <td>11.0</td>\n",
       "      <td>259.862709</td>\n",
       "      <td>315.194693</td>\n",
       "      <td>11.0</td>\n",
       "      <td>299.385555</td>\n",
       "      <td>...</td>\n",
       "      <td>10.0</td>\n",
       "      <td>468.465601</td>\n",
       "      <td>271.216927</td>\n",
       "      <td>23.0</td>\n",
       "      <td>455.189248</td>\n",
       "      <td>253.515123</td>\n",
       "      <td>21.0</td>\n",
       "      <td>465.304565</td>\n",
       "      <td>254.147330</td>\n",
       "      <td>21.0</td>\n",
       "    </tr>\n",
       "    <tr>\n",
       "      <th>labeled-data/test_100frames.ome/img1.tif</th>\n",
       "      <td>351.753325</td>\n",
       "      <td>464.393435</td>\n",
       "      <td>11.0</td>\n",
       "      <td>358.669823</td>\n",
       "      <td>427.834803</td>\n",
       "      <td>11.0</td>\n",
       "      <td>360.645965</td>\n",
       "      <td>412.025665</td>\n",
       "      <td>11.0</td>\n",
       "      <td>385.347744</td>\n",
       "      <td>...</td>\n",
       "      <td>10.0</td>\n",
       "      <td>497.547136</td>\n",
       "      <td>249.721879</td>\n",
       "      <td>23.0</td>\n",
       "      <td>482.374162</td>\n",
       "      <td>241.503184</td>\n",
       "      <td>21.0</td>\n",
       "      <td>489.960649</td>\n",
       "      <td>235.813319</td>\n",
       "      <td>21.0</td>\n",
       "    </tr>\n",
       "    <tr>\n",
       "      <th>labeled-data/test_100frames.ome/img2.tif</th>\n",
       "      <td>411.037593</td>\n",
       "      <td>519.725419</td>\n",
       "      <td>11.0</td>\n",
       "      <td>421.906376</td>\n",
       "      <td>486.131000</td>\n",
       "      <td>11.0</td>\n",
       "      <td>426.846732</td>\n",
       "      <td>471.309933</td>\n",
       "      <td>11.0</td>\n",
       "      <td>444.632012</td>\n",
       "      <td>...</td>\n",
       "      <td>10.0</td>\n",
       "      <td>484.270783</td>\n",
       "      <td>232.652282</td>\n",
       "      <td>23.0</td>\n",
       "      <td>467.833394</td>\n",
       "      <td>241.503184</td>\n",
       "      <td>21.0</td>\n",
       "      <td>467.833394</td>\n",
       "      <td>230.755661</td>\n",
       "      <td>21.0</td>\n",
       "    </tr>\n",
       "    <tr>\n",
       "      <th>labeled-data/test_100frames.ome/img3.tif</th>\n",
       "      <td>354.717539</td>\n",
       "      <td>500.952067</td>\n",
       "      <td>11.0</td>\n",
       "      <td>380.407388</td>\n",
       "      <td>476.250289</td>\n",
       "      <td>11.0</td>\n",
       "      <td>391.276171</td>\n",
       "      <td>464.393435</td>\n",
       "      <td>11.0</td>\n",
       "      <td>416.966020</td>\n",
       "      <td>...</td>\n",
       "      <td>10.0</td>\n",
       "      <td>496.282722</td>\n",
       "      <td>241.503184</td>\n",
       "      <td>20.0</td>\n",
       "      <td>484.902991</td>\n",
       "      <td>246.560843</td>\n",
       "      <td>21.0</td>\n",
       "      <td>483.638576</td>\n",
       "      <td>234.548904</td>\n",
       "      <td>21.0</td>\n",
       "    </tr>\n",
       "    <tr>\n",
       "      <th>labeled-data/test_100frames.ome/img4.tif</th>\n",
       "      <td>272.707634</td>\n",
       "      <td>416.966020</td>\n",
       "      <td>11.0</td>\n",
       "      <td>307.290124</td>\n",
       "      <td>410.049522</td>\n",
       "      <td>11.0</td>\n",
       "      <td>324.087333</td>\n",
       "      <td>406.097238</td>\n",
       "      <td>11.0</td>\n",
       "      <td>353.729467</td>\n",
       "      <td>...</td>\n",
       "      <td>10.0</td>\n",
       "      <td>515.881148</td>\n",
       "      <td>239.606563</td>\n",
       "      <td>20.0</td>\n",
       "      <td>501.340380</td>\n",
       "      <td>240.870977</td>\n",
       "      <td>21.0</td>\n",
       "      <td>505.765831</td>\n",
       "      <td>229.491246</td>\n",
       "      <td>21.0</td>\n",
       "    </tr>\n",
       "  </tbody>\n",
       "</table>\n",
       "<p>5 rows × 102 columns</p>\n",
       "</div>"
      ],
      "text/plain": [
       "scorer                                       Charlie                    \\\n",
       "bodyparts                                    neuron0                     \n",
       "coords                                             x           y     z   \n",
       "labeled-data/test_100frames.ome/img0.tif  216.387579  340.884543  11.0   \n",
       "labeled-data/test_100frames.ome/img1.tif  351.753325  464.393435  11.0   \n",
       "labeled-data/test_100frames.ome/img2.tif  411.037593  519.725419  11.0   \n",
       "labeled-data/test_100frames.ome/img3.tif  354.717539  500.952067  11.0   \n",
       "labeled-data/test_100frames.ome/img4.tif  272.707634  416.966020  11.0   \n",
       "\n",
       "scorer                                                                  \\\n",
       "bodyparts                                    neuron1                     \n",
       "coords                                             x           y     z   \n",
       "labeled-data/test_100frames.ome/img0.tif  245.041642  324.087333  11.0   \n",
       "labeled-data/test_100frames.ome/img1.tif  358.669823  427.834803  11.0   \n",
       "labeled-data/test_100frames.ome/img2.tif  421.906376  486.131000  11.0   \n",
       "labeled-data/test_100frames.ome/img3.tif  380.407388  476.250289  11.0   \n",
       "labeled-data/test_100frames.ome/img4.tif  307.290124  410.049522  11.0   \n",
       "\n",
       "scorer                                                                  \\\n",
       "bodyparts                                    neuron2                     \n",
       "coords                                             x           y     z   \n",
       "labeled-data/test_100frames.ome/img0.tif  259.862709  315.194693  11.0   \n",
       "labeled-data/test_100frames.ome/img1.tif  360.645965  412.025665  11.0   \n",
       "labeled-data/test_100frames.ome/img2.tif  426.846732  471.309933  11.0   \n",
       "labeled-data/test_100frames.ome/img3.tif  391.276171  464.393435  11.0   \n",
       "labeled-data/test_100frames.ome/img4.tif  324.087333  406.097238  11.0   \n",
       "\n",
       "scorer                                                ...           \\\n",
       "bodyparts                                    neuron3  ... neuron30   \n",
       "coords                                             x  ...        z   \n",
       "labeled-data/test_100frames.ome/img0.tif  299.385555  ...     10.0   \n",
       "labeled-data/test_100frames.ome/img1.tif  385.347744  ...     10.0   \n",
       "labeled-data/test_100frames.ome/img2.tif  444.632012  ...     10.0   \n",
       "labeled-data/test_100frames.ome/img3.tif  416.966020  ...     10.0   \n",
       "labeled-data/test_100frames.ome/img4.tif  353.729467  ...     10.0   \n",
       "\n",
       "scorer                                                                  \\\n",
       "bodyparts                                   neuron31                     \n",
       "coords                                             x           y     z   \n",
       "labeled-data/test_100frames.ome/img0.tif  468.465601  271.216927  23.0   \n",
       "labeled-data/test_100frames.ome/img1.tif  497.547136  249.721879  23.0   \n",
       "labeled-data/test_100frames.ome/img2.tif  484.270783  232.652282  23.0   \n",
       "labeled-data/test_100frames.ome/img3.tif  496.282722  241.503184  20.0   \n",
       "labeled-data/test_100frames.ome/img4.tif  515.881148  239.606563  20.0   \n",
       "\n",
       "scorer                                                                  \\\n",
       "bodyparts                                   neuron32                     \n",
       "coords                                             x           y     z   \n",
       "labeled-data/test_100frames.ome/img0.tif  455.189248  253.515123  21.0   \n",
       "labeled-data/test_100frames.ome/img1.tif  482.374162  241.503184  21.0   \n",
       "labeled-data/test_100frames.ome/img2.tif  467.833394  241.503184  21.0   \n",
       "labeled-data/test_100frames.ome/img3.tif  484.902991  246.560843  21.0   \n",
       "labeled-data/test_100frames.ome/img4.tif  501.340380  240.870977  21.0   \n",
       "\n",
       "scorer                                                                  \n",
       "bodyparts                                   neuron33                    \n",
       "coords                                             x           y     z  \n",
       "labeled-data/test_100frames.ome/img0.tif  465.304565  254.147330  21.0  \n",
       "labeled-data/test_100frames.ome/img1.tif  489.960649  235.813319  21.0  \n",
       "labeled-data/test_100frames.ome/img2.tif  467.833394  230.755661  21.0  \n",
       "labeled-data/test_100frames.ome/img3.tif  483.638576  234.548904  21.0  \n",
       "labeled-data/test_100frames.ome/img4.tif  505.765831  229.491246  21.0  \n",
       "\n",
       "[5 rows x 102 columns]"
      ]
     },
     "execution_count": 2,
     "metadata": {},
     "output_type": "execute_result"
    }
   ],
   "source": [
    "dlc_fname = 'CollectedData_Charlie.h5'\n",
    "\n",
    "df_original = pd.read_hdf(dlc_fname)\n",
    "df_original"
   ]
  },
  {
   "cell_type": "code",
   "execution_count": 3,
   "metadata": {},
   "outputs": [
    {
     "data": {
      "text/plain": [
       "'Charlie'"
      ]
     },
     "execution_count": 3,
     "metadata": {},
     "output_type": "execute_result"
    }
   ],
   "source": [
    "scorer = df_original.columns.levels[0][0]\n",
    "scorer"
   ]
  },
  {
   "cell_type": "code",
   "execution_count": 4,
   "metadata": {},
   "outputs": [
    {
     "name": "stdout",
     "output_type": "stream",
     "text": [
      "Index(['labeled-data/test_100frames.ome/img0.tif',\n",
      "       'labeled-data/test_100frames.ome/img1.tif',\n",
      "       'labeled-data/test_100frames.ome/img2.tif',\n",
      "       'labeled-data/test_100frames.ome/img3.tif',\n",
      "       'labeled-data/test_100frames.ome/img4.tif'],\n",
      "      dtype='object')\n"
     ]
    }
   ],
   "source": [
    "df_original = df_original.sort_index()\n",
    "all_files = df_original.index\n",
    "print(all_files)"
   ]
  },
  {
   "cell_type": "markdown",
   "metadata": {},
   "source": [
    "# Import XML from Icy"
   ]
  },
  {
   "cell_type": "code",
   "execution_count": 5,
   "metadata": {},
   "outputs": [],
   "source": [
    "fname = os.path.join('few_frame_videos', 'icy_40neurons_tracked.xml')\n",
    "et_icy = ET.parse(fname)"
   ]
  },
  {
   "cell_type": "code",
   "execution_count": 6,
   "metadata": {},
   "outputs": [
    {
     "name": "stdout",
     "output_type": "stream",
     "text": [
      "Found 35 neurons\n"
     ]
    }
   ],
   "source": [
    "et2 = et_icy.getroot()\n",
    "num_neurons = len(et2) - 2\n",
    "print(\"Found {} neurons\".format(num_neurons))"
   ]
  },
  {
   "cell_type": "code",
   "execution_count": 7,
   "metadata": {},
   "outputs": [
    {
     "name": "stdout",
     "output_type": "stream",
     "text": [
      "<class 'lxml.etree._Element'>\n",
      "5\n"
     ]
    },
    {
     "data": {
      "text/plain": [
       "'216.3875792280494'"
      ]
     },
     "execution_count": 7,
     "metadata": {},
     "output_type": "execute_result"
    }
   ],
   "source": [
    "i = 2\n",
    "print(type(et2[i][0]))\n",
    "print(len(et2[i][0]))\n",
    "et2[i][0][1].get('x')\n",
    "et2[i][0][0].get('x')"
   ]
  },
  {
   "cell_type": "code",
   "execution_count": 8,
   "metadata": {},
   "outputs": [
    {
     "name": "stdout",
     "output_type": "stream",
     "text": [
      "track\n",
      "{'id': '-744387789'}\n"
     ]
    }
   ],
   "source": [
    "xml_pretty_print(et2[2], 1)"
   ]
  },
  {
   "cell_type": "code",
   "execution_count": 9,
   "metadata": {},
   "outputs": [
    {
     "data": {
      "text/plain": [
       "0"
      ]
     },
     "execution_count": 9,
     "metadata": {},
     "output_type": "execute_result"
    }
   ],
   "source": [
    "len(et2[1])"
   ]
  },
  {
   "cell_type": "markdown",
   "metadata": {},
   "source": [
    "# Write dataframe in DLC format"
   ]
  },
  {
   "cell_type": "code",
   "execution_count": 11,
   "metadata": {},
   "outputs": [
    {
     "name": "stdout",
     "output_type": "stream",
     "text": [
      "Index(['labeled-data/test_100frames.ome/img0.tif',\n",
      "       'labeled-data/test_100frames.ome/img1.tif',\n",
      "       'labeled-data/test_100frames.ome/img2.tif',\n",
      "       'labeled-data/test_100frames.ome/img3.tif',\n",
      "       'labeled-data/test_100frames.ome/img4.tif'],\n",
      "      dtype='object')\n",
      "Assumes filenames in the DLC annotation are same as the Icy tracker, after alphabetizing\n",
      "No tracks found for entry 0; continuing\n",
      "Finished\n"
     ]
    }
   ],
   "source": [
    "\n",
    "relativeimagenames=df_original.index\n",
    "print(relativeimagenames)\n",
    "print(\"Assumes filenames in the DLC annotation are same as the Icy tracker, after alphabetizing\")\n",
    "\n",
    "output_path = '.'\n",
    "\n",
    "dataFrame = None\n",
    "coords = np.empty((len(relativeimagenames),3,))\n",
    "i_neuron_name = 0\n",
    "\n",
    "# Build correctly DLC-formatted dataframe\n",
    "for i_neuron in range(num_neurons):\n",
    "    bodypart = 'neuron{}'.format(i_neuron_name)\n",
    "    \n",
    "    i_xml = i_neuron + 1 # The first entry in the xml file is the 'trackfile' class\n",
    "    this_detections = et2[i_xml]\n",
    "    if len(this_detections) == 0:\n",
    "        print(\"No tracks found for entry {}; continuing\".format(i_neuron))\n",
    "        continue\n",
    "    elif len(this_detections) > 1:\n",
    "        error(\"More than one track found in this group; formatting not supported; aborting\")\n",
    "    else:\n",
    "        this_detections = this_detections[0]\n",
    "        i_neuron_name = i_neuron_name + 1\n",
    "\n",
    "    # Get xyz coordinates for one neuron, for all files\n",
    "    for i2 in range(len(relativeimagenames)):\n",
    "#         xml_pretty_print(this_detections)\n",
    "#         print(len(this_detections), i_xml)\n",
    "        this_track = this_detections[i2]\n",
    "        coords[i2,:] = np.array([int(float(this_track.get('x'))), \n",
    "                                 int(float(this_track.get('y'))), \n",
    "                                 int(float(this_track.get('z'))) ])\n",
    "\n",
    "    index = pd.MultiIndex.from_product([[scorer], [bodypart],\n",
    "                                        ['x', 'y', 'z']],\n",
    "                                        names=['scorer', 'bodyparts', 'coords'])\n",
    "\n",
    "    frame = pd.DataFrame(coords, columns = index, index = relativeimagenames)\n",
    "    dataFrame = pd.concat([dataFrame, frame],axis=1)\n",
    "\n",
    "\n",
    "dataFrame.to_csv(os.path.join(output_path,\"CollectedData_\" + scorer + \".csv\"))\n",
    "dataFrame.to_hdf(os.path.join(output_path,\"CollectedData_\" + scorer + '.h5'),'df_with_missing',format='table', mode='w')\n",
    "\n",
    "    \n",
    "print(\"Finished\")"
   ]
  },
  {
   "cell_type": "code",
   "execution_count": null,
   "metadata": {},
   "outputs": [],
   "source": []
  }
 ],
 "metadata": {
  "kernelspec": {
   "display_name": "Python [conda env:DLC-dev] *",
   "language": "python",
   "name": "conda-env-DLC-dev-py"
  },
  "language_info": {
   "codemirror_mode": {
    "name": "ipython",
    "version": 3
   },
   "file_extension": ".py",
   "mimetype": "text/x-python",
   "name": "python",
   "nbconvert_exporter": "python",
   "pygments_lexer": "ipython3",
   "version": "3.7.7"
  }
 },
 "nbformat": 4,
 "nbformat_minor": 4
}
