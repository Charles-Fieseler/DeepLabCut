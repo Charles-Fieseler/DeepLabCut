{
 "cells": [
  {
   "cell_type": "code",
   "execution_count": 1,
   "metadata": {},
   "outputs": [],
   "source": [
    "from lxml import etree as ET\n",
    "import pandas as pd\n",
    "import os\n",
    "from xml_utils import xml_pretty_print\n",
    "import numpy as np"
   ]
  },
  {
   "cell_type": "markdown",
   "metadata": {},
   "source": [
    "# Import DLC database as a template"
   ]
  },
  {
   "cell_type": "code",
   "execution_count": 3,
   "metadata": {},
   "outputs": [
    {
     "data": {
      "text/html": [
       "<div>\n",
       "<style scoped>\n",
       "    .dataframe tbody tr th:only-of-type {\n",
       "        vertical-align: middle;\n",
       "    }\n",
       "\n",
       "    .dataframe tbody tr th {\n",
       "        vertical-align: top;\n",
       "    }\n",
       "\n",
       "    .dataframe thead tr th {\n",
       "        text-align: left;\n",
       "    }\n",
       "</style>\n",
       "<table border=\"1\" class=\"dataframe\">\n",
       "  <thead>\n",
       "    <tr>\n",
       "      <th>scorer</th>\n",
       "      <th colspan=\"21\" halign=\"left\">Charlie</th>\n",
       "    </tr>\n",
       "    <tr>\n",
       "      <th>bodyparts</th>\n",
       "      <th colspan=\"2\" halign=\"left\">neuron0</th>\n",
       "      <th colspan=\"2\" halign=\"left\">neuron1</th>\n",
       "      <th colspan=\"2\" halign=\"left\">neuron2</th>\n",
       "      <th colspan=\"2\" halign=\"left\">neuron3</th>\n",
       "      <th colspan=\"2\" halign=\"left\">neuron4</th>\n",
       "      <th>...</th>\n",
       "      <th colspan=\"2\" halign=\"left\">neuron9</th>\n",
       "      <th colspan=\"2\" halign=\"left\">neuron10</th>\n",
       "      <th colspan=\"2\" halign=\"left\">neuron11</th>\n",
       "      <th colspan=\"2\" halign=\"left\">neuron12</th>\n",
       "      <th colspan=\"2\" halign=\"left\">neuron13</th>\n",
       "    </tr>\n",
       "    <tr>\n",
       "      <th>coords</th>\n",
       "      <th>x</th>\n",
       "      <th>y</th>\n",
       "      <th>x</th>\n",
       "      <th>y</th>\n",
       "      <th>x</th>\n",
       "      <th>y</th>\n",
       "      <th>x</th>\n",
       "      <th>y</th>\n",
       "      <th>x</th>\n",
       "      <th>y</th>\n",
       "      <th>...</th>\n",
       "      <th>x</th>\n",
       "      <th>y</th>\n",
       "      <th>x</th>\n",
       "      <th>y</th>\n",
       "      <th>x</th>\n",
       "      <th>y</th>\n",
       "      <th>x</th>\n",
       "      <th>y</th>\n",
       "      <th>x</th>\n",
       "      <th>y</th>\n",
       "    </tr>\n",
       "  </thead>\n",
       "  <tbody>\n",
       "    <tr>\n",
       "      <th>labeled-data/test_100frames.ome/img0.tif</th>\n",
       "      <td>263.0</td>\n",
       "      <td>319.0</td>\n",
       "      <td>297.0</td>\n",
       "      <td>318.0</td>\n",
       "      <td>283.0</td>\n",
       "      <td>301.0</td>\n",
       "      <td>249.0</td>\n",
       "      <td>326.0</td>\n",
       "      <td>220.0</td>\n",
       "      <td>347.0</td>\n",
       "      <td>...</td>\n",
       "      <td>272.0</td>\n",
       "      <td>272.0</td>\n",
       "      <td>278.0</td>\n",
       "      <td>264.0</td>\n",
       "      <td>338.0</td>\n",
       "      <td>275.0</td>\n",
       "      <td>439.0</td>\n",
       "      <td>244.0</td>\n",
       "      <td>441.0</td>\n",
       "      <td>175.0</td>\n",
       "    </tr>\n",
       "    <tr>\n",
       "      <th>labeled-data/test_100frames.ome/img1.tif</th>\n",
       "      <td>364.0</td>\n",
       "      <td>416.0</td>\n",
       "      <td>382.0</td>\n",
       "      <td>381.0</td>\n",
       "      <td>366.0</td>\n",
       "      <td>386.0</td>\n",
       "      <td>362.0</td>\n",
       "      <td>429.0</td>\n",
       "      <td>358.0</td>\n",
       "      <td>466.0</td>\n",
       "      <td>...</td>\n",
       "      <td>334.0</td>\n",
       "      <td>371.0</td>\n",
       "      <td>332.0</td>\n",
       "      <td>361.0</td>\n",
       "      <td>389.0</td>\n",
       "      <td>329.0</td>\n",
       "      <td>464.0</td>\n",
       "      <td>246.0</td>\n",
       "      <td>422.0</td>\n",
       "      <td>196.0</td>\n",
       "    </tr>\n",
       "    <tr>\n",
       "      <th>labeled-data/test_100frames.ome/img2.tif</th>\n",
       "      <td>423.0</td>\n",
       "      <td>471.0</td>\n",
       "      <td>446.0</td>\n",
       "      <td>438.0</td>\n",
       "      <td>428.0</td>\n",
       "      <td>444.0</td>\n",
       "      <td>419.0</td>\n",
       "      <td>485.0</td>\n",
       "      <td>407.0</td>\n",
       "      <td>521.0</td>\n",
       "      <td>...</td>\n",
       "      <td>398.0</td>\n",
       "      <td>423.0</td>\n",
       "      <td>394.0</td>\n",
       "      <td>415.0</td>\n",
       "      <td>442.0</td>\n",
       "      <td>371.0</td>\n",
       "      <td>458.0</td>\n",
       "      <td>249.0</td>\n",
       "      <td>395.0</td>\n",
       "      <td>241.0</td>\n",
       "    </tr>\n",
       "    <tr>\n",
       "      <th>labeled-data/test_100frames.ome/img3.tif</th>\n",
       "      <td>387.0</td>\n",
       "      <td>462.0</td>\n",
       "      <td>419.0</td>\n",
       "      <td>440.0</td>\n",
       "      <td>404.0</td>\n",
       "      <td>440.0</td>\n",
       "      <td>375.0</td>\n",
       "      <td>473.0</td>\n",
       "      <td>349.0</td>\n",
       "      <td>499.0</td>\n",
       "      <td>...</td>\n",
       "      <td>379.0</td>\n",
       "      <td>412.0</td>\n",
       "      <td>378.0</td>\n",
       "      <td>402.0</td>\n",
       "      <td>436.0</td>\n",
       "      <td>375.0</td>\n",
       "      <td>463.0</td>\n",
       "      <td>259.0</td>\n",
       "      <td>402.0</td>\n",
       "      <td>238.0</td>\n",
       "    </tr>\n",
       "    <tr>\n",
       "      <th>labeled-data/test_100frames.ome/img4.tif</th>\n",
       "      <td>316.0</td>\n",
       "      <td>401.0</td>\n",
       "      <td>357.0</td>\n",
       "      <td>409.0</td>\n",
       "      <td>345.0</td>\n",
       "      <td>394.0</td>\n",
       "      <td>300.0</td>\n",
       "      <td>404.0</td>\n",
       "      <td>265.0</td>\n",
       "      <td>409.0</td>\n",
       "      <td>...</td>\n",
       "      <td>345.0</td>\n",
       "      <td>360.0</td>\n",
       "      <td>351.0</td>\n",
       "      <td>352.0</td>\n",
       "      <td>411.0</td>\n",
       "      <td>353.0</td>\n",
       "      <td>480.0</td>\n",
       "      <td>244.0</td>\n",
       "      <td>426.0</td>\n",
       "      <td>212.0</td>\n",
       "    </tr>\n",
       "  </tbody>\n",
       "</table>\n",
       "<p>5 rows × 28 columns</p>\n",
       "</div>"
      ],
      "text/plain": [
       "scorer                                   Charlie                        \\\n",
       "bodyparts                                neuron0        neuron1          \n",
       "coords                                         x      y       x      y   \n",
       "labeled-data/test_100frames.ome/img0.tif   263.0  319.0   297.0  318.0   \n",
       "labeled-data/test_100frames.ome/img1.tif   364.0  416.0   382.0  381.0   \n",
       "labeled-data/test_100frames.ome/img2.tif   423.0  471.0   446.0  438.0   \n",
       "labeled-data/test_100frames.ome/img3.tif   387.0  462.0   419.0  440.0   \n",
       "labeled-data/test_100frames.ome/img4.tif   316.0  401.0   357.0  409.0   \n",
       "\n",
       "scorer                                                                  \\\n",
       "bodyparts                                neuron2        neuron3          \n",
       "coords                                         x      y       x      y   \n",
       "labeled-data/test_100frames.ome/img0.tif   283.0  301.0   249.0  326.0   \n",
       "labeled-data/test_100frames.ome/img1.tif   366.0  386.0   362.0  429.0   \n",
       "labeled-data/test_100frames.ome/img2.tif   428.0  444.0   419.0  485.0   \n",
       "labeled-data/test_100frames.ome/img3.tif   404.0  440.0   375.0  473.0   \n",
       "labeled-data/test_100frames.ome/img4.tif   345.0  394.0   300.0  404.0   \n",
       "\n",
       "scorer                                                   ...                 \\\n",
       "bodyparts                                neuron4         ... neuron9          \n",
       "coords                                         x      y  ...       x      y   \n",
       "labeled-data/test_100frames.ome/img0.tif   220.0  347.0  ...   272.0  272.0   \n",
       "labeled-data/test_100frames.ome/img1.tif   358.0  466.0  ...   334.0  371.0   \n",
       "labeled-data/test_100frames.ome/img2.tif   407.0  521.0  ...   398.0  423.0   \n",
       "labeled-data/test_100frames.ome/img3.tif   349.0  499.0  ...   379.0  412.0   \n",
       "labeled-data/test_100frames.ome/img4.tif   265.0  409.0  ...   345.0  360.0   \n",
       "\n",
       "scorer                                                                    \\\n",
       "bodyparts                                neuron10        neuron11          \n",
       "coords                                          x      y        x      y   \n",
       "labeled-data/test_100frames.ome/img0.tif    278.0  264.0    338.0  275.0   \n",
       "labeled-data/test_100frames.ome/img1.tif    332.0  361.0    389.0  329.0   \n",
       "labeled-data/test_100frames.ome/img2.tif    394.0  415.0    442.0  371.0   \n",
       "labeled-data/test_100frames.ome/img3.tif    378.0  402.0    436.0  375.0   \n",
       "labeled-data/test_100frames.ome/img4.tif    351.0  352.0    411.0  353.0   \n",
       "\n",
       "scorer                                                                    \n",
       "bodyparts                                neuron12        neuron13         \n",
       "coords                                          x      y        x      y  \n",
       "labeled-data/test_100frames.ome/img0.tif    439.0  244.0    441.0  175.0  \n",
       "labeled-data/test_100frames.ome/img1.tif    464.0  246.0    422.0  196.0  \n",
       "labeled-data/test_100frames.ome/img2.tif    458.0  249.0    395.0  241.0  \n",
       "labeled-data/test_100frames.ome/img3.tif    463.0  259.0    402.0  238.0  \n",
       "labeled-data/test_100frames.ome/img4.tif    480.0  244.0    426.0  212.0  \n",
       "\n",
       "[5 rows x 28 columns]"
      ]
     },
     "execution_count": 3,
     "metadata": {},
     "output_type": "execute_result"
    }
   ],
   "source": [
    "dlc_fname = 'CollectedData_Charlie.h5'\n",
    "\n",
    "df_original = pd.read_hdf(dlc_fname)\n",
    "df_original"
   ]
  },
  {
   "cell_type": "code",
   "execution_count": 4,
   "metadata": {},
   "outputs": [
    {
     "name": "stdout",
     "output_type": "stream",
     "text": [
      "Index(['labeled-data/test_100frames.ome/img0.tif',\n",
      "       'labeled-data/test_100frames.ome/img1.tif',\n",
      "       'labeled-data/test_100frames.ome/img2.tif',\n",
      "       'labeled-data/test_100frames.ome/img3.tif',\n",
      "       'labeled-data/test_100frames.ome/img4.tif'],\n",
      "      dtype='object')\n"
     ]
    }
   ],
   "source": [
    "df_original = df_original.sort_index()\n",
    "all_files = df_original.index\n",
    "print(all_files)"
   ]
  },
  {
   "cell_type": "markdown",
   "metadata": {},
   "source": [
    "# Import XML from Icy"
   ]
  },
  {
   "cell_type": "code",
   "execution_count": 5,
   "metadata": {},
   "outputs": [],
   "source": [
    "# fname = os.path.join('few_frame_videos', 'icy_40neurons_tracked.xml')\n",
    "fname = os.path.join('few_frame_videos', 'icy_14neurons_slice13.xml')\n",
    "et_icy = ET.parse(fname)"
   ]
  },
  {
   "cell_type": "code",
   "execution_count": 6,
   "metadata": {},
   "outputs": [
    {
     "name": "stdout",
     "output_type": "stream",
     "text": [
      "Found 14 neurons\n"
     ]
    }
   ],
   "source": [
    "et2 = et_icy.getroot()\n",
    "num_neurons = len(et2) - 2\n",
    "print(\"Found {} neurons\".format(num_neurons))"
   ]
  },
  {
   "cell_type": "markdown",
   "metadata": {},
   "source": [
    "# Write dataframe in DLC format"
   ]
  },
  {
   "cell_type": "code",
   "execution_count": 7,
   "metadata": {},
   "outputs": [],
   "source": [
    "save_z_coordinate = False\n",
    "using_original_fnames = False"
   ]
  },
  {
   "cell_type": "code",
   "execution_count": 15,
   "metadata": {},
   "outputs": [
    {
     "name": "stdout",
     "output_type": "stream",
     "text": [
      "['labeled-data/test_100frames_13slice/img00.png', 'labeled-data/test_100frames_13slice/img01.png', 'labeled-data/test_100frames_13slice/img02.png', 'labeled-data/test_100frames_13slice/img03.png', 'labeled-data/test_100frames_13slice/img04.png']\n",
      "Assumes filenames in the DLC annotation are same as the Icy tracker, after alphabetizing\n"
     ]
    }
   ],
   "source": [
    "scorer = df_original.columns.levels[0][0]\n",
    "\n",
    "if save_z_coordinate:\n",
    "    coord_names = ['x', 'y', 'z']\n",
    "else:\n",
    "    coord_names = ['x', 'y']\n",
    "\n",
    "if using_original_fnames:\n",
    "    relativeimagenames=df_original.index\n",
    "else:\n",
    "    relativeimagenames = ['labeled-data/test_100frames_13slice/img00.png',\n",
    "       'labeled-data/test_100frames_13slice/img01.png',\n",
    "       'labeled-data/test_100frames_13slice/img02.png',\n",
    "       'labeled-data/test_100frames_13slice/img03.png',\n",
    "       'labeled-data/test_100frames_13slice/img04.png']\n",
    "print(relativeimagenames)\n",
    "print(\"Assumes filenames in the DLC annotation are same as the Icy tracker, after alphabetizing\")\n",
    "\n",
    "output_path = '.'\n",
    "\n",
    "coords = np.empty((len(relativeimagenames),len(coord_names),))\n",
    "\n",
    "dataFrame = None\n",
    "i_neuron_name = 0"
   ]
  },
  {
   "cell_type": "code",
   "execution_count": 16,
   "metadata": {},
   "outputs": [
    {
     "name": "stdout",
     "output_type": "stream",
     "text": [
      "Finished\n"
     ]
    }
   ],
   "source": [
    "\n",
    "# Build correctly DLC-formatted dataframe\n",
    "for i_neuron in range(num_neurons):\n",
    "    bodypart = 'neuron{}'.format(i_neuron_name)\n",
    "    \n",
    "    i_xml = i_neuron + 1 # The first entry in the xml file is the 'trackfile' class\n",
    "    this_detections = et2[i_xml]\n",
    "    if len(this_detections) == 0:\n",
    "        print(\"No tracks found for entry {}; continuing\".format(i_neuron))\n",
    "        continue\n",
    "    elif len(this_detections) > 1:\n",
    "        error(\"More than one track found in this group; formatting not supported; aborting\")\n",
    "    else:\n",
    "        this_detections = this_detections[0]\n",
    "        i_neuron_name = i_neuron_name + 1\n",
    "\n",
    "    # Get xyz or xy coordinates for one neuron, for all files\n",
    "    for i2 in range(len(relativeimagenames)):\n",
    "        this_track = this_detections[i2]\n",
    "        if save_z_coordinate:\n",
    "            coords[i2,:] = np.array([int(float(this_track.get('x'))), \n",
    "                                     int(float(this_track.get('y'))), \n",
    "                                     int(float(this_track.get('z'))) ])\n",
    "        else:\n",
    "            coords[i2,:] = np.array([int(float(this_track.get('x'))), \n",
    "                                     int(float(this_track.get('y')))])\n",
    "                \n",
    "\n",
    "    index = pd.MultiIndex.from_product([[scorer], [bodypart],\n",
    "                                        coord_names],\n",
    "                                        names=['scorer', 'bodyparts', 'coords'])\n",
    "\n",
    "    frame = pd.DataFrame(coords, columns = index, index = relativeimagenames)\n",
    "    dataFrame = pd.concat([dataFrame, frame],axis=1)\n",
    "\n",
    "\n",
    "dataFrame.to_csv(os.path.join(output_path,\"CollectedData_\" + scorer + \".csv\"))\n",
    "dataFrame.to_hdf(os.path.join(output_path,\"CollectedData_\" + scorer + '.h5'),'df_with_missing',format='table', mode='w')\n",
    "\n",
    "    \n",
    "print(\"Finished\")"
   ]
  },
  {
   "cell_type": "markdown",
   "metadata": {},
   "source": [
    "# Scratch"
   ]
  },
  {
   "cell_type": "code",
   "execution_count": null,
   "metadata": {},
   "outputs": [],
   "source": []
  },
  {
   "cell_type": "code",
   "execution_count": 8,
   "metadata": {},
   "outputs": [
    {
     "name": "stdout",
     "output_type": "stream",
     "text": [
      "<class 'lxml.etree._Element'>\n",
      "5\n"
     ]
    },
    {
     "data": {
      "text/plain": [
       "'297.6748300071666'"
      ]
     },
     "execution_count": 8,
     "metadata": {},
     "output_type": "execute_result"
    }
   ],
   "source": [
    "i = 2\n",
    "print(type(et2[i][0]))\n",
    "print(len(et2[i][0]))\n",
    "et2[i][0][1].get('x')\n",
    "et2[i][0][0].get('x')"
   ]
  },
  {
   "cell_type": "code",
   "execution_count": 8,
   "metadata": {},
   "outputs": [
    {
     "name": "stdout",
     "output_type": "stream",
     "text": [
      "track\n",
      "{'id': '-744387789'}\n"
     ]
    }
   ],
   "source": [
    "xml_pretty_print(et2[2], 1)"
   ]
  },
  {
   "cell_type": "code",
   "execution_count": 9,
   "metadata": {},
   "outputs": [
    {
     "data": {
      "text/plain": [
       "0"
      ]
     },
     "execution_count": 9,
     "metadata": {},
     "output_type": "execute_result"
    }
   ],
   "source": [
    "len(et2[1])"
   ]
  },
  {
   "cell_type": "code",
   "execution_count": 3,
   "metadata": {},
   "outputs": [
    {
     "data": {
      "text/plain": [
       "'Charlie'"
      ]
     },
     "execution_count": 3,
     "metadata": {},
     "output_type": "execute_result"
    }
   ],
   "source": []
  }
 ],
 "metadata": {
  "kernelspec": {
   "display_name": "Python [conda env:DLC-dev]",
   "language": "python",
   "name": "conda-env-DLC-dev-py"
  },
  "language_info": {
   "codemirror_mode": {
    "name": "ipython",
    "version": 3
   },
   "file_extension": ".py",
   "mimetype": "text/x-python",
   "name": "python",
   "nbconvert_exporter": "python",
   "pygments_lexer": "ipython3",
   "version": "3.7.7"
  }
 },
 "nbformat": 4,
 "nbformat_minor": 4
}
